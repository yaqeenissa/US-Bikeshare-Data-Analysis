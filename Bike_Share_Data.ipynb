{
  "nbformat": 4,
  "nbformat_minor": 0,
  "metadata": {
    "colab": {
      "provenance": [],
      "authorship_tag": "ABX9TyN37wHoThRYE4K6S9MPgPyB",
      "include_colab_link": true
    },
    "kernelspec": {
      "name": "python3",
      "display_name": "Python 3"
    },
    "language_info": {
      "name": "python"
    }
  },
  "cells": [
    {
      "cell_type": "markdown",
      "metadata": {
        "id": "view-in-github",
        "colab_type": "text"
      },
      "source": [
        "<a href=\"https://colab.research.google.com/github/yaqeenissa/US-Bikeshare-Data-Analysis/blob/main/Bike_Share_Data.ipynb\" target=\"_parent\"><img src=\"https://colab.research.google.com/assets/colab-badge.svg\" alt=\"Open In Colab\"/></a>"
      ]
    },
    {
      "cell_type": "markdown",
      "source": [
        "\n",
        "\n",
        "# Bike Share Data\n",
        "\n"
      ],
      "metadata": {
        "id": "BUbFQrRKdJBm"
      }
    },
    {
      "cell_type": "code",
      "execution_count": 40,
      "metadata": {
        "id": "Hg131prfcXFa"
      },
      "outputs": [],
      "source": [
        "import numpy as np\n",
        "import pandas as pd\n",
        "import time"
      ]
    },
    {
      "cell_type": "markdown",
      "source": [
        " **Create DF**"
      ],
      "metadata": {
        "id": "db3BguyYfQ1L"
      }
    },
    {
      "cell_type": "code",
      "source": [
        "df_new_york_city=pd.read_csv('/content/Data/new_york_city.csv')\n",
        "df_chicago=pd.read_csv('/content/Data/chicago.csv')\n",
        "df_washington=pd.read_csv('/content/Data/washington.csv')\n",
        "\n",
        "df_new_york_city['City']='New York City'\n",
        "df_chicago['City']='Chicago'\n",
        "df_washington['City']='Washington'\n",
        "\n",
        "\n",
        "DataFrame=pd.concat([df_new_york_city,df_chicago,df_washington])\n"
      ],
      "metadata": {
        "id": "10cAvvhtdSv8"
      },
      "execution_count": 9,
      "outputs": []
    },
    {
      "cell_type": "code",
      "source": [
        "DataFrame.to_csv('Bike_Share.csv')\n"
      ],
      "metadata": {
        "id": "zpQkC-OVfxf5"
      },
      "execution_count": 13,
      "outputs": []
    },
    {
      "cell_type": "code",
      "source": [
        "DataFrame.shape"
      ],
      "metadata": {
        "colab": {
          "base_uri": "https://localhost:8080/"
        },
        "id": "bnBStxrfhKHM",
        "outputId": "258fa3a5-66e0-45ea-d9fe-3884a460e977"
      },
      "execution_count": 17,
      "outputs": [
        {
          "output_type": "execute_result",
          "data": {
            "text/plain": [
              "(900000, 10)"
            ]
          },
          "metadata": {},
          "execution_count": 17
        }
      ]
    },
    {
      "cell_type": "code",
      "source": [
        "DataFrame=DataFrame.drop('Unnamed: 0',axis=1)\n",
        "DataFrame.head()"
      ],
      "metadata": {
        "colab": {
          "base_uri": "https://localhost:8080/",
          "height": 310
        },
        "id": "HESQJE1XhXDX",
        "outputId": "cae98b84-7f30-478e-c5da-f1505f101af1"
      },
      "execution_count": 19,
      "outputs": [
        {
          "output_type": "execute_result",
          "data": {
            "text/plain": [
              "            Start Time             End Time  Trip Duration  \\\n",
              "0  2017-06-11 14:55:05  2017-06-11 15:08:21          795.0   \n",
              "1  2017-05-11 15:30:11  2017-05-11 15:41:43          692.0   \n",
              "2  2017-03-29 13:26:26  2017-03-29 13:48:31         1325.0   \n",
              "3  2017-05-08 19:47:18  2017-05-08 19:59:01          703.0   \n",
              "4  2017-06-21 07:49:16  2017-06-21 07:54:46          329.0   \n",
              "\n",
              "             Start Station             End Station   User Type  Gender  \\\n",
              "0  Suffolk St & Stanton St  W Broadway & Spring St  Subscriber    Male   \n",
              "1  Lexington Ave & E 63 St         1 Ave & E 78 St  Subscriber    Male   \n",
              "2        1 Pl & Clinton St    Henry St & Degraw St  Subscriber    Male   \n",
              "3    Barrow St & Hudson St         W 20 St & 8 Ave  Subscriber  Female   \n",
              "4          1 Ave & E 44 St         E 53 St & 3 Ave  Subscriber    Male   \n",
              "\n",
              "   Birth Year           City  \n",
              "0      1998.0  New York City  \n",
              "1      1981.0  New York City  \n",
              "2      1987.0  New York City  \n",
              "3      1986.0  New York City  \n",
              "4      1992.0  New York City  "
            ],
            "text/html": [
              "\n",
              "  <div id=\"df-3c4905c9-b961-4e53-92ec-617039584aec\" class=\"colab-df-container\">\n",
              "    <div>\n",
              "<style scoped>\n",
              "    .dataframe tbody tr th:only-of-type {\n",
              "        vertical-align: middle;\n",
              "    }\n",
              "\n",
              "    .dataframe tbody tr th {\n",
              "        vertical-align: top;\n",
              "    }\n",
              "\n",
              "    .dataframe thead th {\n",
              "        text-align: right;\n",
              "    }\n",
              "</style>\n",
              "<table border=\"1\" class=\"dataframe\">\n",
              "  <thead>\n",
              "    <tr style=\"text-align: right;\">\n",
              "      <th></th>\n",
              "      <th>Start Time</th>\n",
              "      <th>End Time</th>\n",
              "      <th>Trip Duration</th>\n",
              "      <th>Start Station</th>\n",
              "      <th>End Station</th>\n",
              "      <th>User Type</th>\n",
              "      <th>Gender</th>\n",
              "      <th>Birth Year</th>\n",
              "      <th>City</th>\n",
              "    </tr>\n",
              "  </thead>\n",
              "  <tbody>\n",
              "    <tr>\n",
              "      <th>0</th>\n",
              "      <td>2017-06-11 14:55:05</td>\n",
              "      <td>2017-06-11 15:08:21</td>\n",
              "      <td>795.0</td>\n",
              "      <td>Suffolk St &amp; Stanton St</td>\n",
              "      <td>W Broadway &amp; Spring St</td>\n",
              "      <td>Subscriber</td>\n",
              "      <td>Male</td>\n",
              "      <td>1998.0</td>\n",
              "      <td>New York City</td>\n",
              "    </tr>\n",
              "    <tr>\n",
              "      <th>1</th>\n",
              "      <td>2017-05-11 15:30:11</td>\n",
              "      <td>2017-05-11 15:41:43</td>\n",
              "      <td>692.0</td>\n",
              "      <td>Lexington Ave &amp; E 63 St</td>\n",
              "      <td>1 Ave &amp; E 78 St</td>\n",
              "      <td>Subscriber</td>\n",
              "      <td>Male</td>\n",
              "      <td>1981.0</td>\n",
              "      <td>New York City</td>\n",
              "    </tr>\n",
              "    <tr>\n",
              "      <th>2</th>\n",
              "      <td>2017-03-29 13:26:26</td>\n",
              "      <td>2017-03-29 13:48:31</td>\n",
              "      <td>1325.0</td>\n",
              "      <td>1 Pl &amp; Clinton St</td>\n",
              "      <td>Henry St &amp; Degraw St</td>\n",
              "      <td>Subscriber</td>\n",
              "      <td>Male</td>\n",
              "      <td>1987.0</td>\n",
              "      <td>New York City</td>\n",
              "    </tr>\n",
              "    <tr>\n",
              "      <th>3</th>\n",
              "      <td>2017-05-08 19:47:18</td>\n",
              "      <td>2017-05-08 19:59:01</td>\n",
              "      <td>703.0</td>\n",
              "      <td>Barrow St &amp; Hudson St</td>\n",
              "      <td>W 20 St &amp; 8 Ave</td>\n",
              "      <td>Subscriber</td>\n",
              "      <td>Female</td>\n",
              "      <td>1986.0</td>\n",
              "      <td>New York City</td>\n",
              "    </tr>\n",
              "    <tr>\n",
              "      <th>4</th>\n",
              "      <td>2017-06-21 07:49:16</td>\n",
              "      <td>2017-06-21 07:54:46</td>\n",
              "      <td>329.0</td>\n",
              "      <td>1 Ave &amp; E 44 St</td>\n",
              "      <td>E 53 St &amp; 3 Ave</td>\n",
              "      <td>Subscriber</td>\n",
              "      <td>Male</td>\n",
              "      <td>1992.0</td>\n",
              "      <td>New York City</td>\n",
              "    </tr>\n",
              "  </tbody>\n",
              "</table>\n",
              "</div>\n",
              "    <div class=\"colab-df-buttons\">\n",
              "\n",
              "  <div class=\"colab-df-container\">\n",
              "    <button class=\"colab-df-convert\" onclick=\"convertToInteractive('df-3c4905c9-b961-4e53-92ec-617039584aec')\"\n",
              "            title=\"Convert this dataframe to an interactive table.\"\n",
              "            style=\"display:none;\">\n",
              "\n",
              "  <svg xmlns=\"http://www.w3.org/2000/svg\" height=\"24px\" viewBox=\"0 -960 960 960\">\n",
              "    <path d=\"M120-120v-720h720v720H120Zm60-500h600v-160H180v160Zm220 220h160v-160H400v160Zm0 220h160v-160H400v160ZM180-400h160v-160H180v160Zm440 0h160v-160H620v160ZM180-180h160v-160H180v160Zm440 0h160v-160H620v160Z\"/>\n",
              "  </svg>\n",
              "    </button>\n",
              "\n",
              "  <style>\n",
              "    .colab-df-container {\n",
              "      display:flex;\n",
              "      gap: 12px;\n",
              "    }\n",
              "\n",
              "    .colab-df-convert {\n",
              "      background-color: #E8F0FE;\n",
              "      border: none;\n",
              "      border-radius: 50%;\n",
              "      cursor: pointer;\n",
              "      display: none;\n",
              "      fill: #1967D2;\n",
              "      height: 32px;\n",
              "      padding: 0 0 0 0;\n",
              "      width: 32px;\n",
              "    }\n",
              "\n",
              "    .colab-df-convert:hover {\n",
              "      background-color: #E2EBFA;\n",
              "      box-shadow: 0px 1px 2px rgba(60, 64, 67, 0.3), 0px 1px 3px 1px rgba(60, 64, 67, 0.15);\n",
              "      fill: #174EA6;\n",
              "    }\n",
              "\n",
              "    .colab-df-buttons div {\n",
              "      margin-bottom: 4px;\n",
              "    }\n",
              "\n",
              "    [theme=dark] .colab-df-convert {\n",
              "      background-color: #3B4455;\n",
              "      fill: #D2E3FC;\n",
              "    }\n",
              "\n",
              "    [theme=dark] .colab-df-convert:hover {\n",
              "      background-color: #434B5C;\n",
              "      box-shadow: 0px 1px 3px 1px rgba(0, 0, 0, 0.15);\n",
              "      filter: drop-shadow(0px 1px 2px rgba(0, 0, 0, 0.3));\n",
              "      fill: #FFFFFF;\n",
              "    }\n",
              "  </style>\n",
              "\n",
              "    <script>\n",
              "      const buttonEl =\n",
              "        document.querySelector('#df-3c4905c9-b961-4e53-92ec-617039584aec button.colab-df-convert');\n",
              "      buttonEl.style.display =\n",
              "        google.colab.kernel.accessAllowed ? 'block' : 'none';\n",
              "\n",
              "      async function convertToInteractive(key) {\n",
              "        const element = document.querySelector('#df-3c4905c9-b961-4e53-92ec-617039584aec');\n",
              "        const dataTable =\n",
              "          await google.colab.kernel.invokeFunction('convertToInteractive',\n",
              "                                                    [key], {});\n",
              "        if (!dataTable) return;\n",
              "\n",
              "        const docLinkHtml = 'Like what you see? Visit the ' +\n",
              "          '<a target=\"_blank\" href=https://colab.research.google.com/notebooks/data_table.ipynb>data table notebook</a>'\n",
              "          + ' to learn more about interactive tables.';\n",
              "        element.innerHTML = '';\n",
              "        dataTable['output_type'] = 'display_data';\n",
              "        await google.colab.output.renderOutput(dataTable, element);\n",
              "        const docLink = document.createElement('div');\n",
              "        docLink.innerHTML = docLinkHtml;\n",
              "        element.appendChild(docLink);\n",
              "      }\n",
              "    </script>\n",
              "  </div>\n",
              "\n",
              "\n",
              "    <div id=\"df-cbde10a1-449f-48b1-9a67-a56f54e84e34\">\n",
              "      <button class=\"colab-df-quickchart\" onclick=\"quickchart('df-cbde10a1-449f-48b1-9a67-a56f54e84e34')\"\n",
              "                title=\"Suggest charts\"\n",
              "                style=\"display:none;\">\n",
              "\n",
              "<svg xmlns=\"http://www.w3.org/2000/svg\" height=\"24px\"viewBox=\"0 0 24 24\"\n",
              "     width=\"24px\">\n",
              "    <g>\n",
              "        <path d=\"M19 3H5c-1.1 0-2 .9-2 2v14c0 1.1.9 2 2 2h14c1.1 0 2-.9 2-2V5c0-1.1-.9-2-2-2zM9 17H7v-7h2v7zm4 0h-2V7h2v10zm4 0h-2v-4h2v4z\"/>\n",
              "    </g>\n",
              "</svg>\n",
              "      </button>\n",
              "\n",
              "<style>\n",
              "  .colab-df-quickchart {\n",
              "      --bg-color: #E8F0FE;\n",
              "      --fill-color: #1967D2;\n",
              "      --hover-bg-color: #E2EBFA;\n",
              "      --hover-fill-color: #174EA6;\n",
              "      --disabled-fill-color: #AAA;\n",
              "      --disabled-bg-color: #DDD;\n",
              "  }\n",
              "\n",
              "  [theme=dark] .colab-df-quickchart {\n",
              "      --bg-color: #3B4455;\n",
              "      --fill-color: #D2E3FC;\n",
              "      --hover-bg-color: #434B5C;\n",
              "      --hover-fill-color: #FFFFFF;\n",
              "      --disabled-bg-color: #3B4455;\n",
              "      --disabled-fill-color: #666;\n",
              "  }\n",
              "\n",
              "  .colab-df-quickchart {\n",
              "    background-color: var(--bg-color);\n",
              "    border: none;\n",
              "    border-radius: 50%;\n",
              "    cursor: pointer;\n",
              "    display: none;\n",
              "    fill: var(--fill-color);\n",
              "    height: 32px;\n",
              "    padding: 0;\n",
              "    width: 32px;\n",
              "  }\n",
              "\n",
              "  .colab-df-quickchart:hover {\n",
              "    background-color: var(--hover-bg-color);\n",
              "    box-shadow: 0 1px 2px rgba(60, 64, 67, 0.3), 0 1px 3px 1px rgba(60, 64, 67, 0.15);\n",
              "    fill: var(--button-hover-fill-color);\n",
              "  }\n",
              "\n",
              "  .colab-df-quickchart-complete:disabled,\n",
              "  .colab-df-quickchart-complete:disabled:hover {\n",
              "    background-color: var(--disabled-bg-color);\n",
              "    fill: var(--disabled-fill-color);\n",
              "    box-shadow: none;\n",
              "  }\n",
              "\n",
              "  .colab-df-spinner {\n",
              "    border: 2px solid var(--fill-color);\n",
              "    border-color: transparent;\n",
              "    border-bottom-color: var(--fill-color);\n",
              "    animation:\n",
              "      spin 1s steps(1) infinite;\n",
              "  }\n",
              "\n",
              "  @keyframes spin {\n",
              "    0% {\n",
              "      border-color: transparent;\n",
              "      border-bottom-color: var(--fill-color);\n",
              "      border-left-color: var(--fill-color);\n",
              "    }\n",
              "    20% {\n",
              "      border-color: transparent;\n",
              "      border-left-color: var(--fill-color);\n",
              "      border-top-color: var(--fill-color);\n",
              "    }\n",
              "    30% {\n",
              "      border-color: transparent;\n",
              "      border-left-color: var(--fill-color);\n",
              "      border-top-color: var(--fill-color);\n",
              "      border-right-color: var(--fill-color);\n",
              "    }\n",
              "    40% {\n",
              "      border-color: transparent;\n",
              "      border-right-color: var(--fill-color);\n",
              "      border-top-color: var(--fill-color);\n",
              "    }\n",
              "    60% {\n",
              "      border-color: transparent;\n",
              "      border-right-color: var(--fill-color);\n",
              "    }\n",
              "    80% {\n",
              "      border-color: transparent;\n",
              "      border-right-color: var(--fill-color);\n",
              "      border-bottom-color: var(--fill-color);\n",
              "    }\n",
              "    90% {\n",
              "      border-color: transparent;\n",
              "      border-bottom-color: var(--fill-color);\n",
              "    }\n",
              "  }\n",
              "</style>\n",
              "\n",
              "      <script>\n",
              "        async function quickchart(key) {\n",
              "          const quickchartButtonEl =\n",
              "            document.querySelector('#' + key + ' button');\n",
              "          quickchartButtonEl.disabled = true;  // To prevent multiple clicks.\n",
              "          quickchartButtonEl.classList.add('colab-df-spinner');\n",
              "          try {\n",
              "            const charts = await google.colab.kernel.invokeFunction(\n",
              "                'suggestCharts', [key], {});\n",
              "          } catch (error) {\n",
              "            console.error('Error during call to suggestCharts:', error);\n",
              "          }\n",
              "          quickchartButtonEl.classList.remove('colab-df-spinner');\n",
              "          quickchartButtonEl.classList.add('colab-df-quickchart-complete');\n",
              "        }\n",
              "        (() => {\n",
              "          let quickchartButtonEl =\n",
              "            document.querySelector('#df-cbde10a1-449f-48b1-9a67-a56f54e84e34 button');\n",
              "          quickchartButtonEl.style.display =\n",
              "            google.colab.kernel.accessAllowed ? 'block' : 'none';\n",
              "        })();\n",
              "      </script>\n",
              "    </div>\n",
              "\n",
              "    </div>\n",
              "  </div>\n"
            ],
            "application/vnd.google.colaboratory.intrinsic+json": {
              "type": "dataframe",
              "variable_name": "DataFrame"
            }
          },
          "metadata": {},
          "execution_count": 19
        }
      ]
    },
    {
      "cell_type": "code",
      "source": [
        "DataFrame.isnull().sum()"
      ],
      "metadata": {
        "colab": {
          "base_uri": "https://localhost:8080/",
          "height": 366
        },
        "id": "1_IBMt6Zhh_t",
        "outputId": "b72a952a-e3b8-4045-fe25-7d87221f5309"
      },
      "execution_count": 22,
      "outputs": [
        {
          "output_type": "execute_result",
          "data": {
            "text/plain": [
              "Start Time            0\n",
              "End Time              0\n",
              "Trip Duration         0\n",
              "Start Station         0\n",
              "End Station           0\n",
              "User Type           692\n",
              "Gender           390261\n",
              "Birth Year       389239\n",
              "City                  0\n",
              "dtype: int64"
            ],
            "text/html": [
              "<div>\n",
              "<style scoped>\n",
              "    .dataframe tbody tr th:only-of-type {\n",
              "        vertical-align: middle;\n",
              "    }\n",
              "\n",
              "    .dataframe tbody tr th {\n",
              "        vertical-align: top;\n",
              "    }\n",
              "\n",
              "    .dataframe thead th {\n",
              "        text-align: right;\n",
              "    }\n",
              "</style>\n",
              "<table border=\"1\" class=\"dataframe\">\n",
              "  <thead>\n",
              "    <tr style=\"text-align: right;\">\n",
              "      <th></th>\n",
              "      <th>0</th>\n",
              "    </tr>\n",
              "  </thead>\n",
              "  <tbody>\n",
              "    <tr>\n",
              "      <th>Start Time</th>\n",
              "      <td>0</td>\n",
              "    </tr>\n",
              "    <tr>\n",
              "      <th>End Time</th>\n",
              "      <td>0</td>\n",
              "    </tr>\n",
              "    <tr>\n",
              "      <th>Trip Duration</th>\n",
              "      <td>0</td>\n",
              "    </tr>\n",
              "    <tr>\n",
              "      <th>Start Station</th>\n",
              "      <td>0</td>\n",
              "    </tr>\n",
              "    <tr>\n",
              "      <th>End Station</th>\n",
              "      <td>0</td>\n",
              "    </tr>\n",
              "    <tr>\n",
              "      <th>User Type</th>\n",
              "      <td>692</td>\n",
              "    </tr>\n",
              "    <tr>\n",
              "      <th>Gender</th>\n",
              "      <td>390261</td>\n",
              "    </tr>\n",
              "    <tr>\n",
              "      <th>Birth Year</th>\n",
              "      <td>389239</td>\n",
              "    </tr>\n",
              "    <tr>\n",
              "      <th>City</th>\n",
              "      <td>0</td>\n",
              "    </tr>\n",
              "  </tbody>\n",
              "</table>\n",
              "</div><br><label><b>dtype:</b> int64</label>"
            ]
          },
          "metadata": {},
          "execution_count": 22
        }
      ]
    },
    {
      "cell_type": "markdown",
      "source": [
        "Gender and Birth year null for Washington.\n"
      ],
      "metadata": {
        "id": "Maz8MOtviXEm"
      }
    },
    {
      "cell_type": "markdown",
      "source": [
        "#Popular times of travel (i.e., occurs most often in the start time)\n",
        "\n",
        "most common month\n",
        "most common day of week\n",
        "most common hour of day"
      ],
      "metadata": {
        "id": "DiJ7jysIjqb2"
      }
    },
    {
      "cell_type": "code",
      "source": [
        "DataFrame['Start Time'].info()"
      ],
      "metadata": {
        "colab": {
          "base_uri": "https://localhost:8080/"
        },
        "id": "dyCHBaPiiRj0",
        "outputId": "809e02ca-3062-42e5-88ba-897f510117c0"
      },
      "execution_count": 27,
      "outputs": [
        {
          "output_type": "stream",
          "name": "stdout",
          "text": [
            "<class 'pandas.core.series.Series'>\n",
            "Index: 900000 entries, 0 to 299999\n",
            "Series name: Start Time\n",
            "Non-Null Count   Dtype \n",
            "--------------   ----- \n",
            "900000 non-null  object\n",
            "dtypes: object(1)\n",
            "memory usage: 13.7+ MB\n"
          ]
        }
      ]
    },
    {
      "cell_type": "code",
      "source": [
        "DataFrame['Start Time']=pd.to_datetime(DataFrame['Start Time'])"
      ],
      "metadata": {
        "id": "3JHgv-fSkdBH"
      },
      "execution_count": 29,
      "outputs": []
    },
    {
      "cell_type": "code",
      "source": [
        "DataFrame['Month']=DataFrame['Start Time'].dt.month\n",
        "DataFrame['Day']=DataFrame['Start Time'].dt.day\n",
        "DataFrame['Hour']=DataFrame['Start Time'].dt.hour"
      ],
      "metadata": {
        "id": "gsYcmkJQlB6t"
      },
      "execution_count": 31,
      "outputs": []
    },
    {
      "cell_type": "code",
      "source": [
        "most_common_month=DataFrame['Month'].mode()[0]\n",
        "most_common_day=DataFrame['Day'].mode()[0]\n",
        "most_common_hour=DataFrame['Hour'].mode()[0]"
      ],
      "metadata": {
        "id": "DbTBFEJ9lYqi"
      },
      "execution_count": 35,
      "outputs": []
    },
    {
      "cell_type": "code",
      "source": [
        "print(f\"Most common month: {most_common_month}\")\n",
        "print(f\"Most common day of week: {most_common_day}\")\n",
        "print(f\"Most common hour of day: {most_common_hour}\")"
      ],
      "metadata": {
        "colab": {
          "base_uri": "https://localhost:8080/"
        },
        "id": "4eS94oeIll23",
        "outputId": "028bdf91-fd56-44de-ee21-17500e4c4d8c"
      },
      "execution_count": 36,
      "outputs": [
        {
          "output_type": "stream",
          "name": "stdout",
          "text": [
            "Most common month: 6\n",
            "Most common day of week: 21\n",
            "Most common hour of day: 8\n"
          ]
        }
      ]
    },
    {
      "cell_type": "code",
      "source": [
        "# Most common Start Station\n",
        "most_common_start_station = DataFrame['Start Station'].mode()[0]\n",
        "\n",
        "# Most common End Station\n",
        "most_common_end_station = DataFrame['End Station'].mode()[0]\n",
        "\n",
        "# Most common trip (Start to End)\n",
        "DataFrame['Trip Combination'] = DataFrame['Start Station'] + \" → \" + DataFrame['End Station']\n",
        "most_common_trip = DataFrame['Trip Combination'].mode()[0]\n",
        "\n",
        "# Print results\n",
        "print(f\"Most common start station: {most_common_start_station}\")\n",
        "print(f\"Most common end station: {most_common_end_station}\")\n",
        "print(f\"Most common trip from start to end: {most_common_trip}\")"
      ],
      "metadata": {
        "colab": {
          "base_uri": "https://localhost:8080/"
        },
        "id": "fkzWDIZkk_Y0",
        "outputId": "81da2110-af7c-406d-e3e3-a10c910e7daf"
      },
      "execution_count": 39,
      "outputs": [
        {
          "output_type": "stream",
          "name": "stdout",
          "text": [
            "Most common start station: Streeter Dr & Grand Ave\n",
            "Most common end station: Streeter Dr & Grand Ave\n",
            "Most common trip from start to end: Lake Shore Dr & Monroe St → Streeter Dr & Grand Ave\n"
          ]
        }
      ]
    },
    {
      "cell_type": "code",
      "source": [
        "def trip_duration_stats(DataFrame):\n",
        "    \"\"\"Displays statistics on the total and average trip duration.\"\"\"\n",
        "\n",
        "    print('\\nCalculating Trip Duration...\\n')\n",
        "    start_time = time.time()\n",
        "\n",
        "    # Solution 3: Using aggregate functions\n",
        "    total_duration = DataFrame['Trip Duration'].agg('sum')\n",
        "    mean_duration = DataFrame['Trip Duration'].agg('mean')\n",
        "\n",
        "    print('Total Travel Time (agg):', total_duration)\n",
        "    print('Mean Travel Time (agg):', mean_duration)\n",
        "\n",
        "    print(\"\\nThis took %s seconds.\" % (time.time() - start_time))\n",
        "    print('-'*40)\n"
      ],
      "metadata": {
        "id": "MMJrkKMun-Yy"
      },
      "execution_count": 41,
      "outputs": []
    },
    {
      "cell_type": "code",
      "source": [
        "trip_duration_stats(DataFrame)"
      ],
      "metadata": {
        "colab": {
          "base_uri": "https://localhost:8080/"
        },
        "id": "MBdHMuF4pM07",
        "outputId": "118f6c29-f909-4ed8-c1bb-45a99faf5ebb"
      },
      "execution_count": 42,
      "outputs": [
        {
          "output_type": "stream",
          "name": "stdout",
          "text": [
            "\n",
            "Calculating Trip Duration...\n",
            "\n",
            "Total Travel Time (agg): 921961020.484\n",
            "Mean Travel Time (agg): 1024.4011338711111\n",
            "\n",
            "This took 0.006125450134277344 seconds.\n",
            "----------------------------------------\n"
          ]
        }
      ]
    },
    {
      "cell_type": "code",
      "source": [
        "def user_stats(DataFrame):\n",
        "    \"\"\"Displays statistics on bikeshare users.\"\"\"\n",
        "\n",
        "    print('\\nCalculating User Stats...\\n')\n",
        "    start_time = time.time()\n",
        "\n",
        "    # User Type counts\n",
        "    user_types = DataFrame['User Type'].unique()\n",
        "    user_type_counts = {user_type: len(DataFrame[DataFrame['User Type'] == user_type]) for user_type in user_types}\n",
        "    print('User Types (unique and count):')\n",
        "    for user, count in user_type_counts.items():\n",
        "        print(f\"  {user}: {count}\")\n",
        "\n",
        "    # Gender counts (only if available)\n",
        "    if 'Gender' in DataFrame.columns:\n",
        "        genders = DataFrame['Gender'].dropna().unique()\n",
        "        gender_counts = {gender: len(DataFrame[DataFrame['Gender'] == gender]) for gender in genders}\n",
        "        print('\\nGenders (unique and count):')\n",
        "        for gender, count in gender_counts.items():\n",
        "            print(f\"  {gender}: {count}\")\n",
        "\n",
        "    # Birth Year statistics (only if available)\n",
        "    if 'Birth Year' in DataFrame.columns:\n",
        "        birth_year_data = DataFrame['Birth Year'].dropna()\n",
        "        earliest = int(birth_year_data.min())\n",
        "        most_recent = int(birth_year_data.max())\n",
        "        most_common = int(birth_year_data.mode()[0])\n",
        "\n",
        "        print('\\nBirth Year Stats:')\n",
        "        print(f\"  Earliest: {earliest}\")\n",
        "        print(f\"  Most Recent: {most_recent}\")\n",
        "        print(f\"  Most Common: {most_common}\")\n",
        "\n",
        "    print(\"\\nThis took %s seconds.\" % (time.time() - start_time))\n",
        "    print('-'*40)\n"
      ],
      "metadata": {
        "id": "JSLRMZwhpUII"
      },
      "execution_count": 50,
      "outputs": []
    },
    {
      "cell_type": "code",
      "source": [
        "user_stats(DataFrame)"
      ],
      "metadata": {
        "colab": {
          "base_uri": "https://localhost:8080/"
        },
        "id": "uki4ucUhphXk",
        "outputId": "e7757247-2503-4990-ee8e-f9e3b5129bc8"
      },
      "execution_count": 51,
      "outputs": [
        {
          "output_type": "stream",
          "name": "stdout",
          "text": [
            "\n",
            "Calculating User Stats...\n",
            "\n",
            "User Types (unique and count):\n",
            "  Subscriber: 728824\n",
            "  Customer: 170483\n",
            "  nan: 0\n",
            "  Dependent: 1\n",
            "\n",
            "Genders (unique and count):\n",
            "  Male: 385198\n",
            "  Female: 124541\n",
            "\n",
            "Birth Year Stats:\n",
            "  Earliest: 1885\n",
            "  Most Recent: 2016\n",
            "  Most Common: 1989\n",
            "\n",
            "This took 0.785719633102417 seconds.\n",
            "----------------------------------------\n"
          ]
        }
      ]
    },
    {
      "cell_type": "code",
      "source": [
        "import pandas as pd\n",
        "import time\n",
        "\n",
        "CITY_DATA = {\n",
        "    'chicago': 'Data/chicago.csv',\n",
        "    'new york city': 'Data/new_york_city.csv',\n",
        "    'washington': 'Data/washington.csv'\n",
        "}\n",
        "\n",
        "def get_city():\n",
        "    \"\"\"Asks user to specify a city to analyze and validates input.\"\"\"\n",
        "    while True:\n",
        "        city = input(\"Please enter a city (Chicago, New York City, Washington): \").strip().lower()\n",
        "        if city in CITY_DATA:\n",
        "            return city\n",
        "        else:\n",
        "            print(\"Invalid city name. Please try again.\")\n",
        "\n",
        "def load_data(city):\n",
        "    \"\"\"Loads data for the specified city and adds new time-related columns.\"\"\"\n",
        "    df = pd.read_csv(CITY_DATA[city])\n",
        "    df['Start Time'] = pd.to_datetime(df['Start Time'])\n",
        "    df['Month'] = df['Start Time'].dt.month\n",
        "    df['Day'] = df['Start Time'].dt.day_name()\n",
        "    df['Hour'] = df['Start Time'].dt.hour\n",
        "    df['City'] = city.title()\n",
        "    return df\n",
        "\n",
        "def time_stats(df):\n",
        "    \"\"\"Displays statistics on the most frequent times of travel.\"\"\"\n",
        "    print('\\nCalculating The Most Frequent Times of Travel...')\n",
        "    start_time = time.time()\n",
        "\n",
        "    common_month = df['Month'].mode()[0]\n",
        "    common_day = df['Day'].mode()[0]\n",
        "    common_hour = df['Hour'].mode()[0]\n",
        "\n",
        "    print(f\"Most Common Month: {common_month}\")\n",
        "    print(f\"Most Common Day: {common_day}\")\n",
        "    print(f\"Most Common Hour: {common_hour}\")\n",
        "    print(\"\\nThis took %s seconds.\" % (time.time() - start_time))\n",
        "    print('-'*40)\n",
        "\n",
        "def station_stats(df):\n",
        "    \"\"\"Displays statistics on the most popular stations and trip.\"\"\"\n",
        "    print('\\nCalculating The Most Popular Stations and Trip...')\n",
        "    start_time = time.time()\n",
        "\n",
        "    start_station = df['Start Station'].mode()[0]\n",
        "    end_station = df['End Station'].mode()[0]\n",
        "    df['Trip Combination'] = df['Start Station'] + \" -> \" + df['End Station']\n",
        "    most_common_trip = df['Trip Combination'].mode()[0]\n",
        "\n",
        "    print(f\"Most Common Start Station: {start_station}\")\n",
        "    print(f\"Most Common End Station: {end_station}\")\n",
        "    print(f\"Most Common Trip: {most_common_trip}\")\n",
        "    print(\"\\nThis took %s seconds.\" % (time.time() - start_time))\n",
        "    print('-'*40)\n",
        "\n",
        "def trip_duration_stats(df):\n",
        "    \"\"\"Displays statistics on the total and average trip duration.\"\"\"\n",
        "    print('\\nCalculating Trip Duration...')\n",
        "    start_time = time.time()\n",
        "\n",
        "    total_duration = df['Trip Duration'].sum()\n",
        "    mean_duration = df['Trip Duration'].mean()\n",
        "\n",
        "    print(f\"Total Travel Time: {total_duration} seconds\")\n",
        "    print(f\"Mean Travel Time: {mean_duration} seconds\")\n",
        "    print(\"\\nThis took %s seconds.\" % (time.time() - start_time))\n",
        "    print('-'*40)\n",
        "\n",
        "def user_stats(df):\n",
        "    \"\"\"Displays statistics on bikeshare users.\"\"\"\n",
        "    print('\\nCalculating User Stats...')\n",
        "    start_time = time.time()\n",
        "\n",
        "    user_types = df['User Type'].value_counts()\n",
        "    print(\"\\nUser Types:\")\n",
        "    print(user_types.to_string())\n",
        "\n",
        "    if 'Gender' in df.columns:\n",
        "        gender_counts = df['Gender'].value_counts()\n",
        "        print(\"\\nGender Counts:\")\n",
        "        print(gender_counts.to_string())\n",
        "\n",
        "    if 'Birth Year' in df.columns:\n",
        "        earliest = int(df['Birth Year'].min())\n",
        "        most_recent = int(df['Birth Year'].max())\n",
        "        most_common = int(df['Birth Year'].mode()[0])\n",
        "\n",
        "        print(\"\\nBirth Year Stats:\")\n",
        "        print(f\"Earliest Year: {earliest}\")\n",
        "        print(f\"Most Recent Year: {most_recent}\")\n",
        "        print(f\"Most Common Year: {most_common}\")\n",
        "\n",
        "    print(\"\\nThis took %s seconds.\" % (time.time() - start_time))\n",
        "    print('-'*40)\n",
        "\n",
        "def display_raw_data(df):\n",
        "    \"\"\"Displays 5 lines of raw data at a time upon user request.\"\"\"\n",
        "    start = 0\n",
        "    while True:\n",
        "        show_data = input(\"Would you like to view 5 lines of raw data? Enter yes or no: \").strip().lower()\n",
        "        if show_data == 'yes':\n",
        "            print(df.iloc[start:start+5])\n",
        "            start += 5\n",
        "        elif show_data == 'no':\n",
        "            break\n",
        "        else:\n",
        "            print(\"Invalid input. Please enter yes or no.\")\n",
        "\n",
        "def main():\n",
        "    \"\"\"Main program loop.\"\"\"\n",
        "    while True:\n",
        "        city = get_city()\n",
        "        df = load_data(city)\n",
        "\n",
        "        time_stats(df)\n",
        "        station_stats(df)\n",
        "        trip_duration_stats(df)\n",
        "        user_stats(df)\n",
        "        display_raw_data(df)\n",
        "\n",
        "        restart = input(\"\\nWould you like to restart? Enter yes or no: \").strip().lower()\n",
        "        if restart != 'yes':\n",
        "            break\n",
        "\n",
        "if __name__ == \"__main__\":\n",
        "    main()\n"
      ],
      "metadata": {
        "colab": {
          "base_uri": "https://localhost:8080/"
        },
        "id": "BCNe06WLsRTh",
        "outputId": "99859ad6-9dae-4868-878e-637cc0586fb3"
      },
      "execution_count": 52,
      "outputs": [
        {
          "name": "stdout",
          "output_type": "stream",
          "text": [
            "Please enter a city (Chicago, New York City, Washington): Chicago\n",
            "\n",
            "Calculating The Most Frequent Times of Travel...\n",
            "Most Common Month: 6\n",
            "Most Common Day: Tuesday\n",
            "Most Common Hour: 17\n",
            "\n",
            "This took 0.06324148178100586 seconds.\n",
            "----------------------------------------\n",
            "\n",
            "Calculating The Most Popular Stations and Trip...\n",
            "Most Common Start Station: Streeter Dr & Grand Ave\n",
            "Most Common End Station: Streeter Dr & Grand Ave\n",
            "Most Common Trip: Lake Shore Dr & Monroe St -> Streeter Dr & Grand Ave\n",
            "\n",
            "This took 0.25254297256469727 seconds.\n",
            "----------------------------------------\n",
            "\n",
            "Calculating Trip Duration...\n",
            "Total Travel Time: 280871787 seconds\n",
            "Mean Travel Time: 936.23929 seconds\n",
            "\n",
            "This took 0.0013070106506347656 seconds.\n",
            "----------------------------------------\n",
            "\n",
            "Calculating User Stats...\n",
            "\n",
            "User Types:\n",
            "User Type\n",
            "Subscriber    238889\n",
            "Customer       61110\n",
            "Dependent          1\n",
            "\n",
            "Gender Counts:\n",
            "Gender\n",
            "Male      181190\n",
            "Female     57758\n",
            "\n",
            "Birth Year Stats:\n",
            "Earliest Year: 1899\n",
            "Most Recent Year: 2016\n",
            "Most Common Year: 1989\n",
            "\n",
            "This took 0.04668235778808594 seconds.\n",
            "----------------------------------------\n",
            "Would you like to view 5 lines of raw data? Enter yes or no: yes\n",
            "   Unnamed: 0          Start Time             End Time  Trip Duration  \\\n",
            "0     1423854 2017-06-23 15:09:32  2017-06-23 15:14:53            321   \n",
            "1      955915 2017-05-25 18:19:03  2017-05-25 18:45:53           1610   \n",
            "2        9031 2017-01-04 08:27:49  2017-01-04 08:34:45            416   \n",
            "3      304487 2017-03-06 13:49:38  2017-03-06 13:55:28            350   \n",
            "4       45207 2017-01-17 14:53:07  2017-01-17 15:02:01            534   \n",
            "\n",
            "                   Start Station                   End Station   User Type  \\\n",
            "0           Wood St & Hubbard St       Damen Ave & Chicago Ave  Subscriber   \n",
            "1            Theater on the Lake  Sheffield Ave & Waveland Ave  Subscriber   \n",
            "2             May St & Taylor St           Wood St & Taylor St  Subscriber   \n",
            "3  Christiana Ave & Lawrence Ave  St. Louis Ave & Balmoral Ave  Subscriber   \n",
            "4         Clark St & Randolph St  Desplaines St & Jackson Blvd  Subscriber   \n",
            "\n",
            "   Gender  Birth Year  Month        Day  Hour     City  \\\n",
            "0    Male      1992.0      6     Friday    15  Chicago   \n",
            "1  Female      1992.0      5   Thursday    18  Chicago   \n",
            "2    Male      1981.0      1  Wednesday     8  Chicago   \n",
            "3    Male      1986.0      3     Monday    13  Chicago   \n",
            "4    Male      1975.0      1    Tuesday    14  Chicago   \n",
            "\n",
            "                                    Trip Combination  \n",
            "0    Wood St & Hubbard St -> Damen Ave & Chicago Ave  \n",
            "1  Theater on the Lake -> Sheffield Ave & Wavelan...  \n",
            "2          May St & Taylor St -> Wood St & Taylor St  \n",
            "3  Christiana Ave & Lawrence Ave -> St. Louis Ave...  \n",
            "4  Clark St & Randolph St -> Desplaines St & Jack...  \n",
            "Would you like to view 5 lines of raw data? Enter yes or no: no\n",
            "\n",
            "Would you like to restart? Enter yes or no: no\n"
          ]
        }
      ]
    }
  ]
}